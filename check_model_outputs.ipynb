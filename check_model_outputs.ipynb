{
 "cells": [
  {
   "cell_type": "code",
   "execution_count": null,
   "metadata": {},
   "outputs": [],
   "source": [
    "import numpy as np\n",
    "import torch\n",
    "import torchvision.models as models\n",
    "from tensorflow import keras\n",
    "from tensorflow.keras import layers\n",
    "\n",
    "from resnet import resnet18"
   ]
  },
  {
   "cell_type": "code",
   "execution_count": null,
   "metadata": {},
   "outputs": [],
   "source": [
    "use_float64 = True  # Use float64 for more precision\n",
    "training = False  # Verify batch norm behavior for both train and eval"
   ]
  },
  {
   "cell_type": "code",
   "execution_count": null,
   "metadata": {},
   "outputs": [],
   "source": [
    "# Load pretrained pytorch model\n",
    "torch_model = models.resnet18(pretrained=True)\n",
    "if use_float64:\n",
    "    torch_model = torch_model.double()\n",
    "if training:\n",
    "    torch_model.train()\n",
    "else:\n",
    "    torch_model.eval()"
   ]
  },
  {
   "cell_type": "code",
   "execution_count": null,
   "metadata": {},
   "outputs": [],
   "source": [
    "# Create tf2 model\n",
    "if use_float64:\n",
    "    keras.backend.set_floatx('float64')\n",
    "inputs = keras.Input(shape=(None, None, 3))\n",
    "outputs = resnet18(inputs)\n",
    "model = keras.Model(inputs, outputs)"
   ]
  },
  {
   "cell_type": "code",
   "execution_count": null,
   "metadata": {},
   "outputs": [],
   "source": [
    "# Load pytorch weights\n",
    "state_dict = torch_model.state_dict()\n",
    "for layer in model.layers:\n",
    "    if isinstance(layer, layers.Conv2D):\n",
    "        layer.set_weights([state_dict[f'{layer.name}.weight'].numpy().transpose((2, 3, 1, 0))])\n",
    "    elif isinstance(layer, layers.Dense):\n",
    "        layer.set_weights([\n",
    "            state_dict[f'{layer.name}.weight'].numpy().transpose(),\n",
    "            state_dict[f'{layer.name}.bias'].numpy()\n",
    "        ])\n",
    "    elif isinstance(layer, layers.BatchNormalization):\n",
    "        keys = ['weight', 'bias', 'running_mean', 'running_var']\n",
    "        layer.set_weights([state_dict[f'{layer.name}.{key}'].numpy() for key in keys])"
   ]
  },
  {
   "cell_type": "code",
   "execution_count": null,
   "metadata": {},
   "outputs": [],
   "source": [
    "# Compare outputs\n",
    "input_batch = np.random.rand(4, 256, 256, 3).astype(model.dtype)\n",
    "output = model(input_batch, training=training).numpy()\n",
    "with torch.no_grad():\n",
    "    torch_output = torch_model(torch.tensor(input_batch.transpose((0, 3, 1, 2)))).numpy()\n",
    "print(np.abs(output - torch_output).max())"
   ]
  },
  {
   "cell_type": "code",
   "execution_count": null,
   "metadata": {},
   "outputs": [],
   "source": []
  }
 ],
 "metadata": {
  "kernelspec": {
   "display_name": "Python 3",
   "language": "python",
   "name": "python3"
  },
  "language_info": {
   "codemirror_mode": {
    "name": "ipython",
    "version": 3
   },
   "file_extension": ".py",
   "mimetype": "text/x-python",
   "name": "python",
   "nbconvert_exporter": "python",
   "pygments_lexer": "ipython3",
   "version": "3.7.10"
  }
 },
 "nbformat": 4,
 "nbformat_minor": 4
}
