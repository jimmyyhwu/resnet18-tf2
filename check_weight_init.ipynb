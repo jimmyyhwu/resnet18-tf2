{
 "cells": [
  {
   "cell_type": "code",
   "execution_count": null,
   "metadata": {},
   "outputs": [],
   "source": [
    "import matplotlib.pyplot as plt\n",
    "import torchvision.models as models\n",
    "from tensorflow import keras\n",
    "from tensorflow.keras import layers\n",
    "\n",
    "from resnet import resnet18"
   ]
  },
  {
   "cell_type": "code",
   "execution_count": null,
   "metadata": {},
   "outputs": [],
   "source": [
    "# Create randomly initialized pytorch model\n",
    "torch_model = models.resnet18()"
   ]
  },
  {
   "cell_type": "code",
   "execution_count": null,
   "metadata": {},
   "outputs": [],
   "source": [
    "# Create randomly initialized tf2 model\n",
    "inputs = keras.Input(shape=(None, None, 3))\n",
    "outputs = resnet18(inputs)\n",
    "model = keras.Model(inputs, outputs)"
   ]
  },
  {
   "cell_type": "code",
   "execution_count": null,
   "metadata": {
    "scrolled": false
   },
   "outputs": [],
   "source": [
    "# Compare weight distributions\n",
    "state_dict = torch_model.state_dict()\n",
    "for layer in model.layers:\n",
    "    if isinstance(layer, layers.Conv2D):\n",
    "        keys = ['weight']\n",
    "    elif isinstance(layer, layers.Dense):\n",
    "        keys = ['weight', 'bias']\n",
    "    else:\n",
    "        continue\n",
    "\n",
    "    print(layer.name)\n",
    "    weights = [w.numpy().flatten() for w in layer.weights]\n",
    "    torch_weights = [state_dict[f'{layer.name}.{key}'].flatten().numpy() for key in keys]\n",
    "    for w, tw in zip(weights, torch_weights):\n",
    "        plt.hist(w, bins=100, histtype='step')\n",
    "        plt.hist(tw, bins=100, histtype='step')\n",
    "        plt.show()"
   ]
  },
  {
   "cell_type": "code",
   "execution_count": null,
   "metadata": {},
   "outputs": [],
   "source": []
  }
 ],
 "metadata": {
  "kernelspec": {
   "display_name": "Python 3",
   "language": "python",
   "name": "python3"
  },
  "language_info": {
   "codemirror_mode": {
    "name": "ipython",
    "version": 3
   },
   "file_extension": ".py",
   "mimetype": "text/x-python",
   "name": "python",
   "nbconvert_exporter": "python",
   "pygments_lexer": "ipython3",
   "version": "3.7.10"
  }
 },
 "nbformat": 4,
 "nbformat_minor": 4
}
